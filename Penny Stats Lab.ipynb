{
 "cells": [
  {
   "cell_type": "markdown",
   "metadata": {},
   "source": [
    "# Penny Statistics Lab Data Analysis Program"
   ]
  },
  {
   "cell_type": "markdown",
   "metadata": {},
   "source": [
    "## 1. Import libraries. \n",
    "Select box below and hit shift-enter. This gives the computer the information it needs to run this program."
   ]
  },
  {
   "cell_type": "code",
   "execution_count": 1,
   "metadata": {
    "collapsed": false
   },
   "outputs": [
    {
     "name": "stderr",
     "output_type": "stream",
     "text": [
      "/opt/conda/lib/python3.5/site-packages/matplotlib/font_manager.py:273: UserWarning: Matplotlib is building the font cache using fc-list. This may take a moment.\n",
      "  warnings.warn('Matplotlib is building the font cache using fc-list. This may take a moment.')\n",
      "/opt/conda/lib/python3.5/site-packages/matplotlib/font_manager.py:273: UserWarning: Matplotlib is building the font cache using fc-list. This may take a moment.\n",
      "  warnings.warn('Matplotlib is building the font cache using fc-list. This may take a moment.')\n"
     ]
    }
   ],
   "source": [
    "#Note: don't touch!\n",
    "import numpy as np\n",
    "from scipy import stats\n",
    "import matplotlib.pyplot as plt\n",
    "import pandas as pd\n",
    "%matplotlib inline"
   ]
  },
  {
   "cell_type": "markdown",
   "metadata": {},
   "source": [
    "## 2. Input raw data.\n",
    "Input raw data in the box below. Format appropriately according to the example data. Then, select the box and hit shift-enter."
   ]
  },
  {
   "cell_type": "code",
   "execution_count": 2,
   "metadata": {
    "collapsed": false
   },
   "outputs": [],
   "source": [
    "#input data here in this format:\n",
    "year_mass = pd.DataFrame([\n",
    "    {\"year\": 1986, \"mass\": 2.5262},\n",
    "    {\"year\": 2008, \"mass\": 2.5000},\n",
    "    {\"year\": 2008, \"mass\": 2.4967},\n",
    "    {\"year\": 2006, \"mass\": 2.4953},\n",
    "    {\"year\": 1986, \"mass\": 2.4906},\n",
    "    {\"year\": 1968, \"mass\": 3.0286},\n",
    "    {\"year\": 1982, \"mass\": 3.1391},\n",
    "    {\"year\": 2007, \"mass\": 2.5083},\n",
    "    {\"year\": 1962, \"mass\": 3.1268},\n",
    "    {\"year\": 1975, \"mass\": 3.1192},\n",
    "    {\"year\": 2015, \"mass\": 2.5102},\n",
    "    {\"year\": 1963, \"mass\": 3.1200},\n",
    "])"
   ]
  },
  {
   "cell_type": "markdown",
   "metadata": {},
   "source": [
    "## 3. Plot raw data.\n",
    "Select box below and hit shift-enter. This plots the raw data."
   ]
  },
  {
   "cell_type": "code",
   "execution_count": 3,
   "metadata": {
    "collapsed": false
   },
   "outputs": [
    {
     "data": {
      "text/plain": [
       "<matplotlib.text.Text at 0x7f9a04193ba8>"
      ]
     },
     "execution_count": 3,
     "metadata": {},
     "output_type": "execute_result"
    },
    {
     "data": {
      "image/png": "[encoded data removed]",
      "text/plain": [
       "<matplotlib.figure.Figure at 0x7f9a346735c0>"
      ]
     },
     "metadata": {},
     "output_type": "display_data"
    }
   ],
   "source": [
    "#plot the data for easy visualization\n",
    "plt.scatter(year_mass.year, year_mass.mass)\n",
    "plt.ylabel('Penny mass (g)')\n",
    "plt.xlabel('Year')\n",
    "#plt.title('Penny mass as a function of minting year')"
   ]
  },
  {
   "cell_type": "markdown",
   "metadata": {},
   "source": [
    "## 4. Divide the data into two groups.\n",
    "Pick a value (in grams) that divides the data into two groups: a group of heavy pennies and a group of light pennies. For the example data, the value 2.8 is used. Replace that number in the box below with an appropriate value for your data, then select the box and hit shift-enter. Check the plot to make sure the line divides the data as expected. If you're unsatisfied, change the number and hit shift-enter again."
   ]
  },
  {
   "cell_type": "code",
   "execution_count": 5,
   "metadata": {
    "collapsed": false
   },
   "outputs": [
    {
     "data": {
      "image/png": "[encoded data removed]",
      "text/plain": [
       "<matplotlib.figure.Figure at 0x7f9a04cbe5f8>"
      ]
     },
     "metadata": {},
     "output_type": "display_data"
    }
   ],
   "source": [
    "#input penny mass (g)\n",
    "dividing_line = 2.8\n",
    "plt.scatter(year_mass.year, year_mass.mass)\n",
    "plt.axhline(dividing_line)\n",
    "plt.ylabel('Penny mass (g)')\n",
    "plt.xlabel('Year')\n",
    "\n",
    "light_pennies = year_mass[year_mass.mass <= dividing_line]\n",
    "heavy_pennies = year_mass[year_mass.mass > dividing_line]"
   ]
  },
  {
   "cell_type": "markdown",
   "metadata": {},
   "source": [
    "## 5. Perform statistical analysis.\n",
    "Calculate the average and standard deviation for the two groups by selecting the box below and hitting shift-enter. Keep in mind that computers, like calculators, just perform calculations without taking significant digits into account. Be sure to put the correct number of significant digits down in your lab report."
   ]
  },
  {
   "cell_type": "code",
   "execution_count": 6,
   "metadata": {
    "collapsed": false
   },
   "outputs": [
    {
     "data": {
      "text/html": [
       "<div>\n",
       "<table border=\"1\" class=\"dataframe\">\n",
       "  <thead>\n",
       "    <tr style=\"text-align: right;\">\n",
       "      <th></th>\n",
       "      <th>heavy pennies</th>\n",
       "      <th>light pennies</th>\n",
       "    </tr>\n",
       "  </thead>\n",
       "  <tbody>\n",
       "    <tr>\n",
       "      <th>average</th>\n",
       "      <td>3.106740</td>\n",
       "      <td>2.503900</td>\n",
       "    </tr>\n",
       "    <tr>\n",
       "      <th>standard deviation</th>\n",
       "      <td>0.039715</td>\n",
       "      <td>0.011175</td>\n",
       "    </tr>\n",
       "  </tbody>\n",
       "</table>\n",
       "</div>"
      ],
      "text/plain": [
       "                    heavy pennies  light pennies\n",
       "average                  3.106740       2.503900\n",
       "standard deviation       0.039715       0.011175"
      ]
     },
     "execution_count": 6,
     "metadata": {},
     "output_type": "execute_result"
    }
   ],
   "source": [
    "df = pd.DataFrame(\n",
    "    {\n",
    "        \"heavy pennies\": [np.average(heavy_pennies.mass), np.std(heavy_pennies.mass)],\n",
    "        \"light pennies\": [np.average(light_pennies.mass),np.std(light_pennies.mass)]\n",
    "    },\n",
    "    columns=[\"heavy pennies\", \"light pennies\"],\n",
    "    index=[\"average\", \"standard deviation\"]\n",
    ")\n",
    "df"
   ]
  },
  {
   "cell_type": "markdown",
   "metadata": {},
   "source": [
    "## 6. Compare statistical analysis to the raw data.\n",
    "Calculating the average and standard deviation has fit the raw data to a \"normal distribution\" (also known as a \"bell curve\"). Check the fit of these values by comparing the curves to the raw data by selecting the box below and hitting shift-enter. If the raw data doesn't match up with the fit, contact your lab instructor or teaching assistant."
   ]
  },
  {
   "cell_type": "code",
   "execution_count": 8,
   "metadata": {
    "collapsed": false
   },
   "outputs": [
    {
     "data": {
      "image/png": "[encoded data removed]",
      "text/plain": [
       "<matplotlib.figure.Figure at 0x7f9a34673390>"
      ]
     },
     "metadata": {},
     "output_type": "display_data"
    }
   ],
   "source": [
    "heavy_mean = np.average(heavy_pennies.mass)\n",
    "heavy_standard_deviation = np.std(heavy_pennies.mass)\n",
    "\n",
    "light_mean = np.average(light_pennies.mass)\n",
    "light_standard_deviation = np.std(light_pennies.mass)\n",
    "\n",
    "range = np.arange(2.4, 3.4, 0.001)\n",
    "\n",
    "plt.plot(\n",
    "    range,\n",
    "    stats.norm.pdf(range, heavy_mean, heavy_standard_deviation),\n",
    "    range,\n",
    "    stats.norm.pdf(range, light_mean, light_standard_deviation)\n",
    ")\n",
    "plt.hist(year_mass.mass, 100, normed = 1)\n",
    "plt.ylabel('Probability distribution')\n",
    "plt.xlabel('Penny mass (g)')\n",
    "plt.title('Penny mass distributions')\n",
    "plt.legend(['heavy penny fit', 'light penny fit', 'raw data'], loc='upper right')\n",
    "plt.show()"
   ]
  },
  {
   "cell_type": "markdown",
   "metadata": {},
   "source": [
    "## 7. Perform Student's t-test\n",
    "The t-test is a statistical test that is used to determine if two groups are statistically different from one another. Well separated, distinct groups will have a small p-value, and overlapping groups will have a large p-value. Normally, p < 0.05 is considered statistically different. Select the box below and hit shift-enter to calculate the p-value for your data. Record just one significant digit on your lab report."
   ]
  },
  {
   "cell_type": "code",
   "execution_count": 9,
   "metadata": {
    "collapsed": false
   },
   "outputs": [
    {
     "name": "stdout",
     "output_type": "stream",
     "text": [
      "p = 9.14045510717e-12\n"
     ]
    }
   ],
   "source": [
    "test = stats.ttest_ind(heavy_pennies.mass, light_pennies.mass)\n",
    "pvalue = test[1]\n",
    "print(\"p =\", pvalue)"
   ]
  }
 ],
 "metadata": {
  "kernelspec": {
   "display_name": "Python 3",
   "language": "python",
   "name": "python3"
  },
  "language_info": {
   "codemirror_mode": {
    "name": "ipython",
    "version": 3
   },
   "file_extension": ".py",
   "mimetype": "text/x-python",
   "name": "python",
   "nbconvert_exporter": "python",
   "pygments_lexer": "ipython3",
   "version": "3.4.3"
  },
  "widgets": {
   "state": {},
   "version": "1.1.2"
  }
 },
 "nbformat": 4,
 "nbformat_minor": 0
}
